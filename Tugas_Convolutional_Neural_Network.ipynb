{
  "nbformat": 4,
  "nbformat_minor": 0,
  "metadata": {
    "colab": {
      "provenance": [],
      "authorship_tag": "ABX9TyOm8+J2ymLR8a1gabW+XHO/",
      "include_colab_link": true
    },
    "kernelspec": {
      "name": "python3",
      "display_name": "Python 3"
    },
    "language_info": {
      "name": "python"
    }
  },
  "cells": [
    {
      "cell_type": "markdown",
      "metadata": {
        "id": "view-in-github",
        "colab_type": "text"
      },
      "source": [
        "<a href=\"https://colab.research.google.com/github/SherlynVironica/PSDS-Mahir-7.0/blob/main/Tugas_Convolutional_Neural_Network.ipynb\" target=\"_parent\"><img src=\"https://colab.research.google.com/assets/colab-badge.svg\" alt=\"Open In Colab\"/></a>"
      ]
    },
    {
      "cell_type": "code",
      "execution_count": null,
      "metadata": {
        "colab": {
          "base_uri": "https://localhost:8080/"
        },
        "id": "yIVQwydjzcWJ",
        "outputId": "c610c9b2-d216-4324-e4c0-8267f15ac18f"
      },
      "outputs": [
        {
          "output_type": "stream",
          "name": "stdout",
          "text": [
            "Mounted at /content/drive\n"
          ]
        }
      ],
      "source": [
        "from google.colab import drive\n",
        "drive.mount('/content/drive')"
      ]
    },
    {
      "cell_type": "code",
      "source": [
        "import cv2\n",
        "import numpy as np\n",
        "import os\n",
        "import matplotlib.pyplot as plt\n",
        "from sklearn import metrics\n",
        "from keras.optimizers import SGD, RMSprop, Adam, Adagrad, Adadelta\n",
        "import itertools\n",
        "import numpy as np\n"
      ],
      "metadata": {
        "id": "gusnhb9ezsmQ"
      },
      "execution_count": null,
      "outputs": []
    },
    {
      "cell_type": "code",
      "source": [
        "path_source = '/content/drive/MyDrive/archive'\n",
        "\n",
        "categories_in_path_x = os.listdir(path_source)\n",
        "print(categories_in_path_x)"
      ],
      "metadata": {
        "colab": {
          "base_uri": "https://localhost:8080/"
        },
        "id": "M3T2tWeF0EBu",
        "outputId": "f51edf0c-470b-44c2-d274-53160c55726f"
      },
      "execution_count": null,
      "outputs": [
        {
          "output_type": "stream",
          "name": "stdout",
          "text": [
            "['iris-virginica', 'iris-versicolour', 'iris-setosa']\n"
          ]
        }
      ]
    },
    {
      "cell_type": "code",
      "source": [
        "imgs = []\n",
        "labels = []\n",
        "list_data = []\n",
        "data_single = []\n",
        "for category in categories_in_path_x:\n",
        "  list_img_name =  os.listdir(os.path.join(path_source,category))\n",
        "  for img_name in list_img_name:\n",
        "    img = cv2.imread(os.path.join(path_source,category,img_name))\n",
        "    if category == 'iris-setosa':\n",
        "       label = 0\n",
        "    elif category == 'iris-versicolour':\n",
        "      label = 1\n",
        "    else:\n",
        "     label = 2\n",
        "    data_single = [img, label, img_name]\n",
        "    list_data.append(data_single)\n",
        "    imgs.append(img)\n",
        "    labels.append(label)\n",
        "\n",
        "arr_imgs = np.array(imgs)\n",
        "arr_label = np.array(label)"
      ],
      "metadata": {
        "collapsed": true,
        "id": "PabSZfwm0Pp9"
      },
      "execution_count": null,
      "outputs": []
    },
    {
      "cell_type": "code",
      "source": [
        "imgs = np.array(imgs)\n",
        "np.shape(imgs)"
      ],
      "metadata": {
        "colab": {
          "base_uri": "https://localhost:8080/"
        },
        "id": "MjdPnEHV5jU3",
        "outputId": "8d9b4780-ad75-4fa9-c0dd-21896ee5d1d4"
      },
      "execution_count": null,
      "outputs": [
        {
          "output_type": "execute_result",
          "data": {
            "text/plain": [
              "(421, 256, 256, 3)"
            ]
          },
          "metadata": {},
          "execution_count": 27
        }
      ]
    },
    {
      "cell_type": "code",
      "source": [
        "print(labels)\n",
        "\n",
        "from keras.utils import to_categorical\n",
        "labels_binary = to_categorical(labels)\n",
        "\n",
        "labels_binary"
      ],
      "metadata": {
        "colab": {
          "base_uri": "https://localhost:8080/"
        },
        "id": "dvBTXa7c6fe7",
        "outputId": "5150f78b-5277-4f28-c14f-ec46388a1d3e"
      },
      "execution_count": null,
      "outputs": [
        {
          "output_type": "stream",
          "name": "stdout",
          "text": [
            "[2, 2, 2, 2, 2, 2, 2, 2, 2, 2, 2, 2, 2, 2, 2, 2, 2, 2, 2, 2, 2, 2, 2, 2, 2, 2, 2, 2, 2, 2, 2, 2, 2, 2, 2, 2, 2, 2, 2, 2, 2, 2, 2, 2, 2, 2, 2, 2, 2, 2, 2, 2, 2, 2, 2, 2, 2, 2, 2, 2, 2, 2, 2, 2, 2, 2, 2, 2, 2, 2, 2, 2, 2, 2, 2, 2, 2, 2, 2, 2, 2, 2, 2, 2, 2, 1, 1, 1, 1, 1, 1, 1, 1, 1, 1, 1, 1, 1, 1, 1, 1, 1, 1, 1, 1, 1, 1, 1, 1, 1, 1, 1, 1, 1, 1, 1, 1, 1, 1, 1, 1, 1, 1, 1, 1, 1, 1, 1, 1, 1, 1, 1, 1, 1, 1, 1, 1, 1, 1, 1, 1, 1, 1, 1, 1, 1, 1, 1, 1, 1, 1, 1, 1, 1, 1, 1, 1, 1, 1, 1, 1, 1, 1, 1, 1, 1, 1, 1, 1, 1, 1, 1, 1, 1, 1, 1, 1, 1, 1, 1, 1, 1, 1, 1, 1, 1, 1, 1, 1, 1, 1, 1, 1, 1, 1, 1, 1, 1, 1, 1, 1, 1, 1, 1, 1, 1, 1, 1, 1, 1, 1, 1, 1, 1, 1, 1, 1, 1, 1, 1, 1, 1, 1, 1, 1, 1, 1, 1, 1, 1, 1, 1, 1, 1, 1, 1, 1, 1, 1, 1, 1, 1, 1, 1, 1, 1, 1, 1, 1, 1, 1, 1, 1, 1, 1, 1, 1, 1, 1, 1, 1, 1, 1, 1, 1, 1, 1, 1, 1, 1, 1, 1, 1, 1, 1, 1, 1, 1, 1, 1, 1, 1, 1, 1, 1, 1, 1, 1, 1, 1, 1, 1, 1, 1, 1, 1, 1, 1, 1, 1, 1, 1, 1, 1, 1, 1, 1, 1, 1, 1, 1, 1, 1, 1, 1, 1, 1, 1, 1, 1, 1, 1, 1, 1, 1, 1, 1, 1, 1, 1, 1, 1, 1, 1, 1, 1, 1, 1, 1, 1, 1, 1, 1, 1, 1, 1, 1, 1, 1, 1, 1, 1, 1, 1, 0, 0, 0, 0, 0, 0, 0, 0, 0, 0, 0, 0, 0, 0, 0, 0, 0, 0, 0, 0, 0, 0, 0, 0, 0, 0, 0, 0, 0, 0, 0, 0, 0, 0, 0, 0, 0, 0, 0, 0, 0, 0, 0, 0, 0, 0, 0, 0, 0, 0, 0, 0, 0, 0, 0, 0, 0, 0, 0, 0, 0, 0, 0, 0, 0, 0, 0]\n"
          ]
        },
        {
          "output_type": "execute_result",
          "data": {
            "text/plain": [
              "array([[0., 0., 1.],\n",
              "       [0., 0., 1.],\n",
              "       [0., 0., 1.],\n",
              "       ...,\n",
              "       [1., 0., 0.],\n",
              "       [1., 0., 0.],\n",
              "       [1., 0., 0.]], dtype=float32)"
            ]
          },
          "metadata": {},
          "execution_count": 30
        }
      ]
    },
    {
      "cell_type": "code",
      "source": [
        "from sklearn.model_selection import train_test_split\n",
        "\n",
        "train_and_validation_x, test_x, train_and_validation_y_with_name, test_y_with_name = train_test_split(imgs, labels_binary, test_size=0.2, random_state=1)\n",
        "train_x, validation_x, train_y_with_name, validation_y_with_name = train_test_split(train_and_validation_x, train_and_validation_y_with_name, test_size=0.2, random_state=1)"
      ],
      "metadata": {
        "id": "X9wPRs-c8Ywt"
      },
      "execution_count": null,
      "outputs": []
    },
    {
      "cell_type": "code",
      "source": [
        "train_x = np.array(train_x)\n",
        "train_y_with_name =  np.array(train_y_with_name)\n",
        "test_x = np.array(test_x)\n",
        "test_y_with_name =  np.array(test_y_with_name)\n",
        "validation_x = np.array(validation_x)\n",
        "validation_y_with_name =  np.array(validation_y_with_name)"
      ],
      "metadata": {
        "id": "Sh4hlYal-Kvn"
      },
      "execution_count": null,
      "outputs": []
    },
    {
      "cell_type": "code",
      "source": [
        "print(np.shape(train_x))\n",
        "print(np.shape(train_y_with_name))\n",
        "print(np.shape(test_x))\n",
        "print(np.shape(validation_x))"
      ],
      "metadata": {
        "colab": {
          "base_uri": "https://localhost:8080/"
        },
        "id": "wx6U1CCm-mk0",
        "outputId": "e5507504-3d88-467e-98b4-32f56810e699"
      },
      "execution_count": null,
      "outputs": [
        {
          "output_type": "stream",
          "name": "stdout",
          "text": [
            "(268, 256, 256, 3)\n",
            "(268, 3)\n",
            "(85, 256, 256, 3)\n",
            "(68, 256, 256, 3)\n"
          ]
        }
      ]
    },
    {
      "cell_type": "code",
      "source": [
        "train_x = train_x.reshape(-1, 256, 256, 1)\n",
        "test_x = test_x.reshape(-1, 256, 256, 1)\n",
        "validation_x = validation_x.reshape(-1, 256, 256, 1)\n",
        "train_x = train_x / 255.0\n",
        "train_y_with_name = train_y_with_name / 255.0\n",
        "test_x = test_x / 255.0\n",
        "validation_x = validation_x / 255.0"
      ],
      "metadata": {
        "id": "_lVDtHvv-y2N"
      },
      "execution_count": null,
      "outputs": []
    },
    {
      "cell_type": "code",
      "source": [
        "print(np.shape(train_x))\n",
        "print(np.shape(train_y_with_name))\n",
        "print(np.shape(test_x))\n",
        "print(np.shape(validation_x))"
      ],
      "metadata": {
        "colab": {
          "base_uri": "https://localhost:8080/"
        },
        "id": "hFz9cCFr-4wn",
        "outputId": "671df452-2d6c-4b41-d180-f4561c26d962"
      },
      "execution_count": null,
      "outputs": [
        {
          "output_type": "stream",
          "name": "stdout",
          "text": [
            "(804, 256, 256, 1)\n",
            "(268, 3)\n",
            "(255, 256, 256, 1)\n",
            "(204, 256, 256, 1)\n"
          ]
        }
      ]
    },
    {
      "cell_type": "code",
      "source": [
        "train_x = train_x.reshape(-1, 256, 256, 3)\n",
        "test_x = test_x.reshape(-1, 256, 256, 3)\n",
        "validation_x = validation_x.reshape(-1, 256, 256, 3)"
      ],
      "metadata": {
        "id": "h9hgz8DZ-9QQ"
      },
      "execution_count": null,
      "outputs": []
    },
    {
      "cell_type": "code",
      "source": [
        "print(np.shape(train_x))\n",
        "print(np.shape(train_y_with_name))\n",
        "print(np.shape(test_x))\n",
        "print(np.shape(validation_x))"
      ],
      "metadata": {
        "colab": {
          "base_uri": "https://localhost:8080/"
        },
        "id": "JKxfd3y-_BW0",
        "outputId": "16cbda1c-df77-4851-d1de-efe9f315d1cc"
      },
      "execution_count": null,
      "outputs": [
        {
          "output_type": "stream",
          "name": "stdout",
          "text": [
            "(268, 256, 256, 3)\n",
            "(268, 3)\n",
            "(85, 256, 256, 3)\n",
            "(68, 256, 256, 3)\n"
          ]
        }
      ]
    }
  ]
}